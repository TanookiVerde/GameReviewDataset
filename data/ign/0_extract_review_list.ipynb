{
 "cells": [
  {
   "cell_type": "markdown",
   "metadata": {},
   "source": [
    "# Listing Available Game Reviews"
   ]
  },
  {
   "cell_type": "markdown",
   "metadata": {},
   "source": [
    "### Library Management"
   ]
  },
  {
   "cell_type": "code",
   "execution_count": 30,
   "metadata": {},
   "outputs": [],
   "source": [
    "%%capture\n",
    "!pip install selenium\n",
    "!pip install selenium webdriver-manager "
   ]
  },
  {
   "cell_type": "code",
   "execution_count": 31,
   "metadata": {},
   "outputs": [],
   "source": [
    "from selenium.webdriver.common.by import By\n",
    "from selenium.webdriver.support.select import Select\n",
    "from selenium import webdriver\n",
    "import time\n",
    "import pandas as pd"
   ]
  },
  {
   "cell_type": "markdown",
   "metadata": {},
   "source": [
    "### Process"
   ]
  },
  {
   "cell_type": "code",
   "execution_count": 32,
   "metadata": {},
   "outputs": [],
   "source": [
    "def remove_element(element):\n",
    "    driver.execute_script(\"\"\"\n",
    "        var element = arguments[0];\n",
    "        element.parentNode.removeChild(element);\n",
    "        \"\"\", \n",
    "        element\n",
    "    )"
   ]
  },
  {
   "cell_type": "code",
   "execution_count": 41,
   "metadata": {},
   "outputs": [],
   "source": [
    "def extract_active_sections():\n",
    "    game_titles         = []\n",
    "    game_review_urls    = []\n",
    "\n",
    "    review_sections = driver.find_elements(By.CLASS_NAME, \"content-feed-grid-wrapper\")\n",
    "    #print(f\"{len(review_sections)} non extracted sections\")\n",
    "    \n",
    "    for section in review_sections:\n",
    "        # Extract Section Data\n",
    "        reviews = section.find_elements(By.CLASS_NAME, \"content-item\")\n",
    "        for review in reviews:\n",
    "            title = review.find_elements(By.CLASS_NAME, \"item-title\")\n",
    "            item_body = review.find_elements(By.CLASS_NAME, \"item-body\")[0]\n",
    "            url = item_body.get_attribute(\"href\")\n",
    "\n",
    "            game_titles.append(title[0].text)\n",
    "            game_review_urls.append(url)\n",
    "        \n",
    "        # Removing extracted Section\n",
    "        remove_element(section)\n",
    "\n",
    "    return pd.DataFrame(data={\n",
    "        'title' : game_titles,\n",
    "        'url'   : game_review_urls\n",
    "    })"
   ]
  },
  {
   "cell_type": "code",
   "execution_count": null,
   "metadata": {},
   "outputs": [],
   "source": [
    "from tqdm import tqdm\n",
    "\n",
    "TIME_STEP = 0.5\n",
    "\n",
    "with tqdm() as pbar:\n",
    "    driver = webdriver.Firefox()\n",
    "    driver.get(\"https://www.ign.com/reviews/games\")\n",
    "\n",
    "    sort_options = driver.find_elements(By.ID, 'sortBy')[0]\n",
    "    select = Select(sort_options)\n",
    "    select.select_by_index(1)\n",
    "\n",
    "    last_height = driver.execute_script(\"return document.body.scrollHeight\")\n",
    "\n",
    "    all_reviews = pd.DataFrame()\n",
    "    while True:\n",
    "        driver.execute_script(\n",
    "            \"window.scrollTo(0, document.body.scrollHeight);\"\n",
    "        )\n",
    "\n",
    "        # Espera até ter novos elementos\n",
    "        tempo_esperado = 0\n",
    "        while len(driver.find_elements(By.CLASS_NAME, \"content-feed-grid-wrapper\")) == 0:\n",
    "            time.sleep(TIME_STEP)\n",
    "            tempo_esperado += TIME_STEP\n",
    "\n",
    "            if tempo_esperado > 10:\n",
    "                break\n",
    "\n",
    "        reviews = extract_active_sections()\n",
    "        all_reviews = pd.concat([all_reviews, reviews])\n",
    "        all_reviews.to_csv(\"review_list.csv\", header=True, index=False)\n",
    "\n",
    "        new_height = driver.execute_script(\n",
    "            \"return document.body.scrollHeight\"\n",
    "        )\n",
    "        \n",
    "        last_height = new_height\n",
    "\n",
    "        pbar.update(reviews.shape[0])"
   ]
  }
 ],
 "metadata": {
  "interpreter": {
   "hash": "e7370f93d1d0cde622a1f8e1c04877d8463912d04d973331ad4851f04de6915a"
  },
  "kernelspec": {
   "display_name": "Python 3.8.16 64-bit",
   "language": "python",
   "name": "python3"
  },
  "language_info": {
   "codemirror_mode": {
    "name": "ipython",
    "version": 3
   },
   "file_extension": ".py",
   "mimetype": "text/x-python",
   "name": "python",
   "nbconvert_exporter": "python",
   "pygments_lexer": "ipython3",
   "version": "3.8.16"
  },
  "orig_nbformat": 4
 },
 "nbformat": 4,
 "nbformat_minor": 2
}
