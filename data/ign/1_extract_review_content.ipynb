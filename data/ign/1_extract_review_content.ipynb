{
 "cells": [
  {
   "cell_type": "markdown",
   "metadata": {},
   "source": [
    "# Part II - Extracting Game Reviews Content"
   ]
  },
  {
   "cell_type": "markdown",
   "metadata": {},
   "source": [
    "### Library Management"
   ]
  },
  {
   "cell_type": "code",
   "execution_count": null,
   "metadata": {},
   "outputs": [],
   "source": [
    "%%capture\n",
    "!pip install selenium\n",
    "!pip install selenium webdriver-manager "
   ]
  },
  {
   "cell_type": "code",
   "execution_count": 16,
   "metadata": {},
   "outputs": [],
   "source": [
    "from selenium import webdriver\n",
    "from selenium.webdriver.common.by import By\n",
    "from selenium.webdriver.support.select import Select\n",
    "\n",
    "driver = webdriver.Firefox()"
   ]
  },
  {
   "cell_type": "markdown",
   "metadata": {},
   "source": [
    "### Data "
   ]
  },
  {
   "cell_type": "code",
   "execution_count": 17,
   "metadata": {},
   "outputs": [],
   "source": [
    "import pandas as pd\n",
    "\n",
    "review_list = pd.read_csv(\"review_list.csv\")"
   ]
  },
  {
   "cell_type": "markdown",
   "metadata": {},
   "source": [
    "### Process"
   ]
  },
  {
   "cell_type": "code",
   "execution_count": 26,
   "metadata": {},
   "outputs": [],
   "source": [
    "from selenium.common.exceptions import TimeoutException\n",
    "import time\n",
    "\n",
    "def extract_game_review_content(url):\n",
    "    # Loading Page\n",
    "    t = time.time()\n",
    "    driver.set_page_load_timeout(10)\n",
    "    try:\n",
    "        driver.get(url)\n",
    "    except TimeoutException:\n",
    "        driver.execute_script(\"window.stop();\")\n",
    "\n",
    "    # Content Extraction\n",
    "    paragraphs = driver.find_elements(By.TAG_NAME, 'p')\n",
    "\n",
    "    total_text = \"\"\n",
    "    for p in paragraphs:\n",
    "        total_text += p.text + \"\\n\"\n",
    "        \n",
    "    try:\n",
    "\n",
    "        verdict = driver\\\n",
    "            .find_elements(By.CLASS_NAME, 'verdict')[0]\\\n",
    "            .find_elements(By.CLASS_NAME, 'article-section')[0]\n",
    "        total_text += verdict.text\n",
    "    \n",
    "    except:\n",
    "        print(\"No Verdict found\")\n",
    "\n",
    "    return total_text"
   ]
  },
  {
   "cell_type": "code",
   "execution_count": 27,
   "metadata": {},
   "outputs": [
    {
     "name": "stdout",
     "output_type": "stream",
     "text": [
      "No Verdict found\n"
     ]
    },
    {
     "data": {
      "text/plain": [
       "\"\\nYou take control of detective Edward Carnby, a rather portly fellow, who must rescue a little girl, kidnapped by One-Eyed Jack and his band of pirates. Normally anything with pirates in it has to be great. I mean, who doesn't love pirates? Or maybe that's clowns. Anyway, for all its spooky music and texture mapped environments, Alone In The Dark never really gets up to speed.\\nOne major problem lies in the positioning of the camera angles. Often the chosen angle will be too far away to see what you're supposed to be doing, or will be positioned in an awkward way, so you can't see who's attacking you. The control interface is a little awkward as well. Reloading or changing positions during battle takes time, and your assailant will begin attacking before you're fully back in your attack mode. Once they've started shooting, you can't shoot back. It can be very frustrating, to say the least.\\nThese problems aside, Alone In The Dark isn't a bad game. It just doesn't hold a candle to the newer, better games.\\n\\n\\n\""
      ]
     },
     "execution_count": 27,
     "metadata": {},
     "output_type": "execute_result"
    }
   ],
   "source": [
    "extract_game_review_content('https://www.ign.com/articles/1996/11/21/alone-in-the-dark-3')"
   ]
  },
  {
   "cell_type": "code",
   "execution_count": 19,
   "metadata": {},
   "outputs": [
    {
     "name": "stderr",
     "output_type": "stream",
     "text": [
      "100%|██████████| 4392/4392 [00:00<00:00, 24189.39it/s]\n"
     ]
    }
   ],
   "source": [
    "from tqdm import tqdm\n",
    "\n",
    "contents = []\n",
    "\n",
    "for i, game_review in tqdm(review_list.iterrows(), total = review_list.shape[0]):\n",
    "    try:\n",
    "        content = extract_game_review_content(game_review.url)\n",
    "    except:\n",
    "        content = \"error\"\n",
    "    contents.append( content )\n",
    "\n",
    "review_list['content'] = contents"
   ]
  },
  {
   "cell_type": "code",
   "execution_count": 22,
   "metadata": {},
   "outputs": [
    {
     "data": {
      "text/plain": [
       "'https://www.ign.com/articles/1996/11/21/alone-in-the-dark-3'"
      ]
     },
     "execution_count": 22,
     "metadata": {},
     "output_type": "execute_result"
    }
   ],
   "source": [
    "review_list.url[0]"
   ]
  },
  {
   "cell_type": "code",
   "execution_count": 15,
   "metadata": {},
   "outputs": [
    {
     "data": {
      "text/html": [
       "<div>\n",
       "<style scoped>\n",
       "    .dataframe tbody tr th:only-of-type {\n",
       "        vertical-align: middle;\n",
       "    }\n",
       "\n",
       "    .dataframe tbody tr th {\n",
       "        vertical-align: top;\n",
       "    }\n",
       "\n",
       "    .dataframe thead th {\n",
       "        text-align: right;\n",
       "    }\n",
       "</style>\n",
       "<table border=\"1\" class=\"dataframe\">\n",
       "  <thead>\n",
       "    <tr style=\"text-align: right;\">\n",
       "      <th></th>\n",
       "      <th>title</th>\n",
       "      <th>url</th>\n",
       "      <th>content</th>\n",
       "    </tr>\n",
       "  </thead>\n",
       "  <tbody>\n",
       "    <tr>\n",
       "      <th>21</th>\n",
       "      <td>Gran Turismo 7 VR Review</td>\n",
       "      <td>https://www.ign.com/articles/gran-turismo-7-vr...</td>\n",
       "      <td>error</td>\n",
       "    </tr>\n",
       "    <tr>\n",
       "      <th>33</th>\n",
       "      <td>Like a Dragon: Ishin! Review</td>\n",
       "      <td>https://www.ign.com/articles/like-a-dragon-ish...</td>\n",
       "      <td>error</td>\n",
       "    </tr>\n",
       "    <tr>\n",
       "      <th>45</th>\n",
       "      <td>The Elder Scrolls V: Skyrim - The Adventure Ga...</td>\n",
       "      <td>https://www.ign.com/articles/elder-scrolls-v-s...</td>\n",
       "      <td>error</td>\n",
       "    </tr>\n",
       "    <tr>\n",
       "      <th>50</th>\n",
       "      <td>Forspoken Review</td>\n",
       "      <td>https://www.ign.com/articles/forspoken-review</td>\n",
       "      <td>error</td>\n",
       "    </tr>\n",
       "    <tr>\n",
       "      <th>60</th>\n",
       "      <td>Choo-Choo Charles Review</td>\n",
       "      <td>https://www.ign.com/articles/choo-choo-charles...</td>\n",
       "      <td>error</td>\n",
       "    </tr>\n",
       "    <tr>\n",
       "      <th>62</th>\n",
       "      <td>Crisis Core –Final Fantasy 7– Reunion Review</td>\n",
       "      <td>https://www.ign.com/articles/crisis-core-final...</td>\n",
       "      <td>error</td>\n",
       "    </tr>\n",
       "    <tr>\n",
       "      <th>65</th>\n",
       "      <td>Undaunted: Stalingrad Board Game Review</td>\n",
       "      <td>https://www.ign.com/articles/undaunted-staling...</td>\n",
       "      <td>error</td>\n",
       "    </tr>\n",
       "    <tr>\n",
       "      <th>68</th>\n",
       "      <td>Pokémon Scarlet and Violet Review</td>\n",
       "      <td>https://www.ign.com/articles/pokemon-scarlet-a...</td>\n",
       "      <td>error</td>\n",
       "    </tr>\n",
       "    <tr>\n",
       "      <th>81</th>\n",
       "      <td>The Entropy Centre Review</td>\n",
       "      <td>https://www.ign.com/articles/the-entropy-centr...</td>\n",
       "      <td>error</td>\n",
       "    </tr>\n",
       "    <tr>\n",
       "      <th>93</th>\n",
       "      <td>Victoria 3 Review</td>\n",
       "      <td>https://www.ign.com/articles/victoria-3-review</td>\n",
       "      <td>error</td>\n",
       "    </tr>\n",
       "    <tr>\n",
       "      <th>109</th>\n",
       "      <td>Valkyrie Elysium Review</td>\n",
       "      <td>https://www.ign.com/articles/valkyrie-elysium-...</td>\n",
       "      <td>error</td>\n",
       "    </tr>\n",
       "  </tbody>\n",
       "</table>\n",
       "</div>"
      ],
      "text/plain": [
       "                                                 title  \\\n",
       "21                            Gran Turismo 7 VR Review   \n",
       "33                        Like a Dragon: Ishin! Review   \n",
       "45   The Elder Scrolls V: Skyrim - The Adventure Ga...   \n",
       "50                                    Forspoken Review   \n",
       "60                            Choo-Choo Charles Review   \n",
       "62        Crisis Core –Final Fantasy 7– Reunion Review   \n",
       "65             Undaunted: Stalingrad Board Game Review   \n",
       "68                   Pokémon Scarlet and Violet Review   \n",
       "81                           The Entropy Centre Review   \n",
       "93                                   Victoria 3 Review   \n",
       "109                            Valkyrie Elysium Review   \n",
       "\n",
       "                                                   url content  \n",
       "21   https://www.ign.com/articles/gran-turismo-7-vr...   error  \n",
       "33   https://www.ign.com/articles/like-a-dragon-ish...   error  \n",
       "45   https://www.ign.com/articles/elder-scrolls-v-s...   error  \n",
       "50       https://www.ign.com/articles/forspoken-review   error  \n",
       "60   https://www.ign.com/articles/choo-choo-charles...   error  \n",
       "62   https://www.ign.com/articles/crisis-core-final...   error  \n",
       "65   https://www.ign.com/articles/undaunted-staling...   error  \n",
       "68   https://www.ign.com/articles/pokemon-scarlet-a...   error  \n",
       "81   https://www.ign.com/articles/the-entropy-centr...   error  \n",
       "93      https://www.ign.com/articles/victoria-3-review   error  \n",
       "109  https://www.ign.com/articles/valkyrie-elysium-...   error  "
      ]
     },
     "execution_count": 15,
     "metadata": {},
     "output_type": "execute_result"
    }
   ],
   "source": [
    "review_list[review_list.content == 'error']"
   ]
  },
  {
   "cell_type": "code",
   "execution_count": 10,
   "metadata": {},
   "outputs": [],
   "source": [
    "driver.close()"
   ]
  }
 ],
 "metadata": {
  "interpreter": {
   "hash": "e7370f93d1d0cde622a1f8e1c04877d8463912d04d973331ad4851f04de6915a"
  },
  "kernelspec": {
   "display_name": "Python 3.8.16 64-bit",
   "language": "python",
   "name": "python3"
  },
  "language_info": {
   "codemirror_mode": {
    "name": "ipython",
    "version": 3
   },
   "file_extension": ".py",
   "mimetype": "text/x-python",
   "name": "python",
   "nbconvert_exporter": "python",
   "pygments_lexer": "ipython3",
   "version": "3.8.16"
  },
  "orig_nbformat": 4
 },
 "nbformat": 4,
 "nbformat_minor": 2
}
